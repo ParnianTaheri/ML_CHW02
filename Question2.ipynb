{
 "cells": [
  {
   "cell_type": "markdown",
   "metadata": {
    "id": "un_07izr0mCO"
   },
   "source": [
    "<h1 align=\"center\">An Introduction to Machine Learning - 25737</h1>\n",
    "<h4 align=\"center\">Dr. Sajjad Amini</h4>\n",
    "<h4 align=\"center\">Sharif University of Technology, Spring 2023</h4>\n",
    "\n",
    "**Student Name**: Parnian Taheri\n",
    "\n",
    "**Student ID**: 99106352\n",
    "\n",
    "# Effect of Overfitting\n",
    "\n",
    "In this exercise, we want to examine the effect of **overfitting**. As you learned in class, using too many features in training can result in a model with very low loss on the training set but high loss on the validation and test set. For this purpose, we have prepared a dataset in the `q2-train.npy`, `q2-valid.npy`, and `q2-test.npy` files for you. We know that `y` is a polynomial function of `x` in this dataset, meaning that \n",
    "\n",
    "$$\n",
    "y = \\sum_{i=0}^{k}a_ix^i\n",
    "$$\n",
    "\n",
    "However, we do not know the exact value of `k`."
   ]
  },
  {
   "cell_type": "markdown",
   "metadata": {
    "id": "rcSNUeqT158e"
   },
   "source": [
    "## Importing Libraries\n",
    "\n",
    "First, we import the necessary libraries for this assignment. Please note that you should only use these libraries and no other libraries are acceptable."
   ]
  },
  {
   "cell_type": "code",
   "execution_count": 117,
   "metadata": {
    "id": "UitW8b0J0jBa"
   },
   "outputs": [],
   "source": [
    "import numpy as np\n",
    "import matplotlib.pyplot as plt"
   ]
  },
  {
   "cell_type": "markdown",
   "metadata": {
    "id": "Q1x7BaU22F4k"
   },
   "source": [
    "## Reading Data and Preprocessing\n",
    "\n",
    "In this part of the assignment, you should read data from the `.npy` files. The data in `q2-train.npy` file is your training set and should be stored in the `X_train` and `Y_train` variables. Similarly, the data in `q2-valid.npy` file is your validation set, and the data in `q2-test.npy` file is your test set, which should be stored in `X_val`, `Y_val`, `X_test`, and `Y_test` respectively. You can use the `np.load` function to read the `.npy` files."
   ]
  },
  {
   "cell_type": "code",
   "execution_count": 118,
   "metadata": {
    "id": "dDMeq10G2m0U"
   },
   "outputs": [],
   "source": [
    "X_train, Y_train, X_val, Y_val, X_test, Y_test = None, None, None, None, None, None\n",
    "\n",
    "### START CODE HERE ###\n",
    "data = np.load(\"q2-train.npy\")\n",
    "X_train = data[:,0][:,np.newaxis]\n",
    "Y_train = data[:,1][:,np.newaxis]\n",
    "\n",
    "data = np.load(\"q2-valid.npy\")\n",
    "X_val = data[0:,0][:,np.newaxis]\n",
    "Y_val = data[0:,1][:,np.newaxis]\n",
    "\n",
    "data = np.load(\"q2-test.npy\")\n",
    "X_test = data[0:,0][:,np.newaxis]\n",
    "Y_test = data[0:,1][:,np.newaxis]\n",
    "\n",
    "### END CODE HERE ###"
   ]
  },
  {
   "cell_type": "markdown",
   "metadata": {
    "id": "nyXpEfEa3Gw-"
   },
   "source": [
    "To find the best value of `k`, we want to change `k` from 1 to 12 and examine its effect on the validation set, and then choose the right value of `k`. For this purpose, we need to create a matrix with columns equal to $x^0$, $x^1$, $x^2$, ..., $x^k$ for every value of `k`. You can complete the following function to do this job. The function takes an $m \\times 1$ vector `X` containing values of input `x` and returns an $m \\times (k+1)$ matrix that has the properties mentioned above."
   ]
  },
  {
   "cell_type": "code",
   "execution_count": 119,
   "metadata": {
    "id": "DXw2tPO84Ksp"
   },
   "outputs": [],
   "source": [
    "def create_matrix(X):\n",
    "    '''\n",
    "    X: an m by 1 array \n",
    "    '''\n",
    "    new_X = None\n",
    "    ### START CODE HERE ###\n",
    "    k = 12\n",
    "    new_X = np.hstack([np.power(X,i) for i in range(k+1)])\n",
    "    ### END CODE HERE ###\n",
    "    return new_X"
   ]
  },
  {
   "cell_type": "markdown",
   "metadata": {
    "id": "WCTuye7C5Aq3"
   },
   "source": [
    "## Validate Model\n",
    "\n",
    "Now, we want to train our model for every value of `k`. You can use any of the methods that we used in **Question 1** (gradient descent or direct calculation) for this purpose. The following function trains our model on the training set for a given value of `k`, and then returns the loss on the training set and validation set, as well as the weight vector `w`."
   ]
  },
  {
   "cell_type": "code",
   "execution_count": 120,
   "metadata": {
    "id": "9lfWITgf7yQH"
   },
   "outputs": [],
   "source": [
    "# If you need any other function for training write it here\n",
    "def direct_method(X, Y):\n",
    "    '''\n",
    "    X: an m by (n+1) matrix which includes inputs\n",
    "    Y: an m by 1 vector which includes heating loads\n",
    "    '''\n",
    "    w = None\n",
    "    ### START CODE HERE ###\n",
    "    w = np.linalg.pinv(X.T@X)@X.T@ Y\n",
    "    ### END CODE HERE ###\n",
    "    return w\n",
    "\n",
    "def loss(X, Y, w):\n",
    "    '''\n",
    "    X: an m by (n+1) matrix which includes inputs\n",
    "    Y: an m by 1 vector which includes heating loads\n",
    "    w: an (n+1) by 1 weight vector\n",
    "    '''\n",
    "    m, n = X.shape\n",
    "    loss = None\n",
    "    ### START CODE HERE ###\n",
    "    diff = (X @ w) - Y\n",
    "    squared_diff = diff ** 2\n",
    "    loss = squared_diff.mean()\n",
    "    #print(loss)\n",
    "    ### END CODE HERE ###\n",
    "    return loss\n",
    "# (like gradient descent or anything else)"
   ]
  },
  {
   "cell_type": "code",
   "execution_count": 121,
   "metadata": {
    "id": "JaIs631q508z"
   },
   "outputs": [],
   "source": [
    "def train(X_train, Y_train, X_val, Y_val, k):\n",
    "    '''\n",
    "    X_train: an m_train by 1 vector contains training points\n",
    "    Y_train: an m_train by 1 vector contains training values\n",
    "    X_val: an m_val by 1 vector contains validation points\n",
    "    Y_val: an m_val by 1 vector contains validation values\n",
    "    k: degree of polynomial\n",
    "    '''\n",
    "    w, loss_train, loss_val = None, None, None\n",
    "    ### START CODE HERE ###\n",
    "    X_train_new = create_matrix(X_train)[:,0:k+1]   \n",
    "    X_val_new = create_matrix(X_val)[:,0:k+1]   \n",
    "    \n",
    "    w = direct_method(X_train_new, Y_train)\n",
    "    \n",
    "    loss_train = loss(X_train_new, Y_train, w)\n",
    "    \n",
    "    loss_val = loss(X_val_new, Y_val, w)\n",
    "    ### END CODE HERE ###\n",
    "    return w, loss_train, loss_val"
   ]
  },
  {
   "cell_type": "markdown",
   "metadata": {
    "id": "eAsZfxCu6YEf"
   },
   "source": [
    "In the cell below, you can change the value of `k` between 1 and 12 and plot the loss on the training and validation set as a function of `k` in the same plot.\n",
    "\n",
    "**Question**: Discuss about the effect of $k$.\n",
    "\n",
    "**Answer**: As k increases, the \"validation loss\" increases and the \"train loss\" decreases."
   ]
  },
  {
   "cell_type": "code",
   "execution_count": 122,
   "metadata": {
    "id": "knUTXtOv66Wx"
   },
   "outputs": [
    {
     "data": {
      "image/png": "[encoded data removed]",
      "text/plain": [
       "<Figure size 640x480 with 1 Axes>"
      ]
     },
     "metadata": {},
     "output_type": "display_data"
    }
   ],
   "source": [
    "### START CODE HERE ###\n",
    "k = 12\n",
    "for i in range(0,k+1):\n",
    "    w, loss_train, loss_val = train(X_train, Y_train, X_val, Y_val, i)\n",
    "    scatter = plt.scatter(i,loss_val,c='r')\n",
    "    plt.scatter(i,loss_train,c='b')\n",
    "\n",
    "plt.legend([\"loss_val\", \"loss_train\"], loc =\"upper left\")\n",
    "plt.title(\"The effect of k on train loss and validation loss\")\n",
    "plt.xlabel(\"k\")\n",
    "plt.ylabel(\"loss_val & loss_train\")    \n",
    "plt.show()\n",
    "### END CODE HERE ###"
   ]
  },
  {
   "cell_type": "markdown",
   "metadata": {
    "id": "K0M1d2Ez7JLJ"
   },
   "source": [
    "## Evaluating Model\n",
    "\n",
    "In the cell below find the loss of your best model on the test set.\n",
    "\n",
    "**Question**: Why we need test set?\n",
    "\n",
    "**Answer**: To make sure that our model fitted just right based on train and validation set."
   ]
  },
  {
   "cell_type": "code",
   "execution_count": 123,
   "metadata": {
    "id": "Ex1P5H0A7emE"
   },
   "outputs": [
    {
     "name": "stdout",
     "output_type": "stream",
     "text": [
      "loss_test =  0.11791424797244696\n"
     ]
    }
   ],
   "source": [
    "### START CODE HERE ###\n",
    "k = 8\n",
    "w, loss_train, loss_test = train(X_train, Y_train, X_test, Y_test, k)\n",
    "print(\"loss_test = \",loss_test)\n",
    "### END CODE HERE ###"
   ]
  }
 ],
 "metadata": {
  "colab": {
   "provenance": []
  },
  "kernelspec": {
   "display_name": "Python 3 (ipykernel)",
   "language": "python",
   "name": "python3"
  },
  "language_info": {
   "codemirror_mode": {
    "name": "ipython",
    "version": 3
   },
   "file_extension": ".py",
   "mimetype": "text/x-python",
   "name": "python",
   "nbconvert_exporter": "python",
   "pygments_lexer": "ipython3",
   "version": "3.10.9"
  }
 },
 "nbformat": 4,
 "nbformat_minor": 1
}
